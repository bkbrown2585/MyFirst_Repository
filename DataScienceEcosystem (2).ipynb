{
 "cells": [
  {
   "cell_type": "markdown",
   "id": "27edf5a9-9d98-4795-a0ce-0cdca287eefc",
   "metadata": {
    "panel-layout": {
     "height": 129.13,
     "visible": true,
     "width": 100
    }
   },
   "source": [
    "# Data Science Tools and Ecosystem"
   ]
  },
  {
   "cell_type": "markdown",
   "id": "fa76d3ac-8579-462d-83b6-81d1dcf465dd",
   "metadata": {
    "panel-layout": {
     "height": 153.652,
     "visible": true,
     "width": 100
    }
   },
   "source": [
    "## In this notebook, I am learning how to summarize Data Science Tools and Ecosystems\n"
   ]
  },
  {
   "cell_type": "markdown",
   "id": "47b73147-140c-4da4-a623-ad72d7ede9d4",
   "metadata": {
    "panel-layout": {
     "height": 181.06495666503906,
     "visible": true,
     "width": 100
    }
   },
   "source": [
    "### Objectives:\n",
    "- Popular Data Science Languages\n",
    "- Common Data Science Libraries\n",
    "- Open Source Data Science Development Environments\n"
   ]
  },
  {
   "cell_type": "markdown",
   "id": "3163f84e-8337-4e90-b16f-cfbaa49584f1",
   "metadata": {
    "panel-layout": {
     "height": 152.597,
     "visible": true,
     "width": 100
    }
   },
   "source": [
    "### Some of the popular languages that Data Scientists use are:\n",
    "1. Python\n",
    "2. R\n",
    "3. SQL\n",
    "   \n"
   ]
  },
  {
   "cell_type": "markdown",
   "id": "296e95ea-731d-4a1b-9ab9-f5a11c566bf2",
   "metadata": {
    "panel-layout": {
     "height": 152.597,
     "visible": true,
     "width": 100
    }
   },
   "source": [
    "### Some of the commonly used libraries used by Data Scientists include: \n",
    "1. Pandas\n",
    "2. NumPy\n",
    "3. Matplotlib\n"
   ]
  },
  {
   "cell_type": "markdown",
   "id": "392487f3-2563-4f49-89a1-42996d4d5d97",
   "metadata": {
    "panel-layout": {
     "height": 122.66,
     "visible": true,
     "width": 100
    }
   },
   "source": [
    "Data Science Tools |\n",
    "-------------------|\n",
    "  |  JupyterLab |\n",
    "  |  RStudio    |\n",
    "  |  Anaconda   |\n",
    "    "
   ]
  },
  {
   "cell_type": "markdown",
   "id": "4572efbc-c085-4134-81c4-0930f35b4368",
   "metadata": {
    "panel-layout": {
     "height": 84.19,
     "visible": true,
     "width": 100
    }
   },
   "source": [
    "### Below are a few examples of evaluating arithmetic expressions in Python.\n"
   ]
  },
  {
   "cell_type": "code",
   "execution_count": 3,
   "id": "b5abbb1a-d626-4287-8c84-fe472f9aab87",
   "metadata": {
    "panel-layout": {
     "height": 27.1247,
     "visible": true,
     "width": 100
    }
   },
   "outputs": [
    {
     "data": {
      "text/plain": [
       "17"
      ]
     },
     "execution_count": 3,
     "metadata": {},
     "output_type": "execute_result"
    }
   ],
   "source": [
    "#This is a simple arithmetic expression to multiply then add integers. \n",
    "(3*4)+5\n"
   ]
  },
  {
   "cell_type": "code",
   "execution_count": 4,
   "id": "fe168fb0-1c35-42b7-b0e9-62962659c657",
   "metadata": {
    "panel-layout": {
     "height": 27.1247,
     "visible": true,
     "width": 100
    }
   },
   "outputs": [
    {
     "data": {
      "text/plain": [
       "3.3333333333333335"
      ]
     },
     "execution_count": 4,
     "metadata": {},
     "output_type": "execute_result"
    }
   ],
   "source": [
    "#This will convert 200 minutes to hours by dividing by 60.\n",
    "200/60\n"
   ]
  },
  {
   "cell_type": "markdown",
   "id": "1c87c509-bb2e-45a3-97b9-35f442c48012",
   "metadata": {},
   "source": [
    "## Author\n",
    "Brittany Brown\n"
   ]
  },
  {
   "cell_type": "code",
   "execution_count": null,
   "id": "f97041f0-bfe1-41a2-a6a6-30e73f4e3a00",
   "metadata": {},
   "outputs": [],
   "source": []
  }
 ],
 "metadata": {
  "kernelspec": {
   "display_name": "Python 3 (ipykernel)",
   "language": "python",
   "name": "python3"
  },
  "language_info": {
   "codemirror_mode": {
    "name": "ipython",
    "version": 3
   },
   "file_extension": ".py",
   "mimetype": "text/x-python",
   "name": "python",
   "nbconvert_exporter": "python",
   "pygments_lexer": "ipython3",
   "version": "3.12.4"
  },
  "panel-cell-order": [
   "27edf5a9-9d98-4795-a0ce-0cdca287eefc",
   "fa76d3ac-8579-462d-83b6-81d1dcf465dd",
   "3163f84e-8337-4e90-b16f-cfbaa49584f1",
   "296e95ea-731d-4a1b-9ab9-f5a11c566bf2",
   "392487f3-2563-4f49-89a1-42996d4d5d97",
   "4572efbc-c085-4134-81c4-0930f35b4368",
   "b5abbb1a-d626-4287-8c84-fe472f9aab87",
   "fe168fb0-1c35-42b7-b0e9-62962659c657",
   "47b73147-140c-4da4-a623-ad72d7ede9d4"
  ]
 },
 "nbformat": 4,
 "nbformat_minor": 5
}
